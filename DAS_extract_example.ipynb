{
 "cells": [
  {
   "cell_type": "code",
   "execution_count": 3,
   "id": "d246150e-2694-4ed7-9657-49e26e0ce2c0",
   "metadata": {},
   "outputs": [
    {
     "ename": "FileNotFoundError",
     "evalue": "[WinError 3] The system cannot find the path specified: '/Users/muthuku/Desktop/final_xml_07_22'",
     "output_type": "error",
     "traceback": [
      "\u001b[1;31m---------------------------------------------------------------------------\u001b[0m",
      "\u001b[1;31mFileNotFoundError\u001b[0m                         Traceback (most recent call last)",
      "Input \u001b[1;32mIn [3]\u001b[0m, in \u001b[0;36m<cell line: 2>\u001b[1;34m()\u001b[0m\n\u001b[0;32m      1\u001b[0m \u001b[38;5;66;03m#test jupyternotebook- now all functions EXCEPT classify_das.py can be run as individual functions\u001b[39;00m\n\u001b[1;32m----> 2\u001b[0m \u001b[38;5;28;01mfrom\u001b[39;00m \u001b[38;5;21;01mDAS_extract_V2\u001b[39;00m \u001b[38;5;28;01mimport\u001b[39;00m grab_PMIDs_from_csv\n",
      "File \u001b[1;32mG:\\Gunther\\01_Lindberg_Fellowship_Project\\src\\GitHub\\DAS-extract-V2\\DAS_extract_V2\\__init__.py:2\u001b[0m, in \u001b[0;36m<module>\u001b[1;34m\u001b[0m\n\u001b[0;32m      1\u001b[0m \u001b[38;5;66;03m#!/usr/bin/env python\u001b[39;00m\n\u001b[1;32m----> 2\u001b[0m \u001b[38;5;28;01mfrom\u001b[39;00m \u001b[38;5;21;01m.\u001b[39;00m\u001b[38;5;21;01mPMC_OA_DAS_parser_V3\u001b[39;00m \u001b[38;5;28;01mimport\u001b[39;00m parse_xml_directory \n\u001b[0;32m      3\u001b[0m \u001b[38;5;28;01mfrom\u001b[39;00m \u001b[38;5;21;01m.\u001b[39;00m\u001b[38;5;21;01mall_PMC_code\u001b[39;00m \u001b[38;5;28;01mimport\u001b[39;00m grab_PMIDs_from_csv\n\u001b[0;32m      4\u001b[0m \u001b[38;5;28;01mfrom\u001b[39;00m \u001b[38;5;21;01m.\u001b[39;00m\u001b[38;5;21;01mall_PMC_code\u001b[39;00m \u001b[38;5;28;01mimport\u001b[39;00m isolate_rows_by_PMID\n",
      "File \u001b[1;32mG:\\Gunther\\01_Lindberg_Fellowship_Project\\src\\GitHub\\DAS-extract-V2\\DAS_extract_V2\\PMC_OA_DAS_parser_V3.py:206\u001b[0m, in \u001b[0;36m<module>\u001b[1;34m\u001b[0m\n\u001b[0;32m    204\u001b[0m xml_directory \u001b[38;5;241m=\u001b[39m \u001b[38;5;124m'\u001b[39m\u001b[38;5;124m/Users/muthuku/Desktop/final_xml_07_22\u001b[39m\u001b[38;5;124m'\u001b[39m\n\u001b[0;32m    205\u001b[0m \u001b[38;5;66;03m#use the function to parse through each file in directory and extract key info +DAS\u001b[39;00m\n\u001b[1;32m--> 206\u001b[0m df1 \u001b[38;5;241m=\u001b[39m \u001b[43mparse_xml_directory\u001b[49m\u001b[43m(\u001b[49m\u001b[43mxml_directory\u001b[49m\u001b[43m)\u001b[49m\n\u001b[0;32m    207\u001b[0m \u001b[38;5;66;03m#df1.to_csv(\"new_code_check.csv\", encoding = \"utf-8\")\u001b[39;00m\n\u001b[0;32m    208\u001b[0m \n\u001b[0;32m    209\u001b[0m \u001b[38;5;66;03m#DATAFRAME CLEAN UP STEPS\u001b[39;00m\n\u001b[0;32m    210\u001b[0m \n\u001b[0;32m    211\u001b[0m \u001b[38;5;66;03m# create a combined DAS column to include results from 3 methods of DAS collection \u001b[39;00m\n\u001b[0;32m    212\u001b[0m df1[\u001b[38;5;124m'\u001b[39m\u001b[38;5;124mcombined_DAS\u001b[39m\u001b[38;5;124m'\u001b[39m] \u001b[38;5;241m=\u001b[39m df1[\u001b[38;5;124m'\u001b[39m\u001b[38;5;124mData Availability 1\u001b[39m\u001b[38;5;124m'\u001b[39m] \u001b[38;5;241m+\u001b[39m df1[\u001b[38;5;124m'\u001b[39m\u001b[38;5;124mData Availability 2\u001b[39m\u001b[38;5;124m'\u001b[39m] \u001b[38;5;241m+\u001b[39m df1[\u001b[38;5;124m'\u001b[39m\u001b[38;5;124mData Availability 3\u001b[39m\u001b[38;5;124m'\u001b[39m] \u001b[38;5;241m+\u001b[39m df1[\u001b[38;5;124m'\u001b[39m\u001b[38;5;124mData Availability 4\u001b[39m\u001b[38;5;124m'\u001b[39m] \u001b[38;5;241m+\u001b[39m df1[\u001b[38;5;124m'\u001b[39m\u001b[38;5;124mData Availability 5\u001b[39m\u001b[38;5;124m'\u001b[39m] \n",
      "File \u001b[1;32mG:\\Gunther\\01_Lindberg_Fellowship_Project\\src\\GitHub\\DAS-extract-V2\\DAS_extract_V2\\PMC_OA_DAS_parser_V3.py:15\u001b[0m, in \u001b[0;36mparse_xml_directory\u001b[1;34m(directory)\u001b[0m\n\u001b[0;32m      9\u001b[0m \u001b[38;5;124;03m'''Function that can be used to parse through a directory of xmls and outputs a csv/excel \u001b[39;00m\n\u001b[0;32m     10\u001b[0m \u001b[38;5;124;03mof Title, PMID, PMC, DOI, abstract, data availability statements and urls linking to data\u001b[39;00m\n\u001b[0;32m     11\u001b[0m \n\u001b[0;32m     12\u001b[0m \u001b[38;5;124;03mdirectory: folder of .xml files specifically from Pubmed OpenAccess'''\u001b[39;00m\n\u001b[0;32m     14\u001b[0m \u001b[38;5;66;03m#creates a list of xml files within the directory to be looped through\u001b[39;00m\n\u001b[1;32m---> 15\u001b[0m xml_files \u001b[38;5;241m=\u001b[39m [os\u001b[38;5;241m.\u001b[39mpath\u001b[38;5;241m.\u001b[39mjoin(directory, file) \u001b[38;5;28;01mfor\u001b[39;00m file \u001b[38;5;129;01min\u001b[39;00m \u001b[43mos\u001b[49m\u001b[38;5;241;43m.\u001b[39;49m\u001b[43mlistdir\u001b[49m\u001b[43m(\u001b[49m\u001b[43mdirectory\u001b[49m\u001b[43m)\u001b[49m \u001b[38;5;28;01mif\u001b[39;00m file\u001b[38;5;241m.\u001b[39mendswith(\u001b[38;5;124m'\u001b[39m\u001b[38;5;124m.nxml\u001b[39m\u001b[38;5;124m'\u001b[39m)]\n\u001b[0;32m     17\u001b[0m \u001b[38;5;66;03m#initialize empty dataframe to be filled with final output dataframe \u001b[39;00m\n\u001b[0;32m     18\u001b[0m data \u001b[38;5;241m=\u001b[39m []\n",
      "\u001b[1;31mFileNotFoundError\u001b[0m: [WinError 3] The system cannot find the path specified: '/Users/muthuku/Desktop/final_xml_07_22'"
     ]
    }
   ],
   "source": [
    "#test jupyternotebook- now all functions EXCEPT classify_das.py can be run as individual functions\n",
    "from DAS_extract_V2 import grab_PMIDs_from_csv\n",
    "from DAS_extract_V2 import isolate_rows_by_PMID\n",
    "from DAS_extract_V2 import extract_files\n",
    "from DAS_extract_V2 import get_nxml\n",
    "from DAS_extract_V2 import citation_count\n",
    "import pandas as pd\n",
    "import numpy as np\n",
    "\n",
    "#a test to see if it works in jupyter notebook\n",
    "file = \"example_files/PMC_parser_output.csv\"\n",
    "df1 = pd.read_csv(file)\n",
    "df2 = df1['DOI']\n",
    "df1['citation_count'] = citation_count(df2)\n",
    "print(df1)"
   ]
  },
  {
   "cell_type": "code",
   "execution_count": null,
   "id": "ede3a559-f493-4ef4-b3a9-e363f0676323",
   "metadata": {},
   "outputs": [],
   "source": [
    "# %run /path/to/my_script.py FOR CLASSIFY DAS python file \n",
    "# !python /path/to/my_script.py"
   ]
  },
  {
   "cell_type": "code",
   "execution_count": 4,
   "id": "c808ad76-8193-4e0f-bc13-e1be43362954",
   "metadata": {},
   "outputs": [
    {
     "ename": "FileNotFoundError",
     "evalue": "[WinError 3] The system cannot find the path specified: '/Users/muthuku/Desktop/final_xml_07_22'",
     "output_type": "error",
     "traceback": [
      "\u001b[1;31m---------------------------------------------------------------------------\u001b[0m",
      "\u001b[1;31mFileNotFoundError\u001b[0m                         Traceback (most recent call last)",
      "Input \u001b[1;32mIn [4]\u001b[0m, in \u001b[0;36m<cell line: 2>\u001b[1;34m()\u001b[0m\n\u001b[0;32m      1\u001b[0m \u001b[38;5;66;03m#STEP 1 -grab PMIDs from CSHL digital repo CSV \u001b[39;00m\n\u001b[1;32m----> 2\u001b[0m \u001b[38;5;28;01mfrom\u001b[39;00m \u001b[38;5;21;01mDAS_extract_V2\u001b[39;00m \u001b[38;5;28;01mimport\u001b[39;00m grab_PMIDs_from_csv\n\u001b[0;32m      3\u001b[0m \u001b[38;5;28;01mfrom\u001b[39;00m \u001b[38;5;21;01mDAS_extract_V2\u001b[39;00m \u001b[38;5;28;01mimport\u001b[39;00m isolate_rows_by_PMID\n\u001b[0;32m      4\u001b[0m \u001b[38;5;28;01mfrom\u001b[39;00m \u001b[38;5;21;01mDAS_extract_V2\u001b[39;00m \u001b[38;5;28;01mimport\u001b[39;00m extract_files\n",
      "File \u001b[1;32mG:\\Gunther\\01_Lindberg_Fellowship_Project\\src\\GitHub\\DAS-extract-V2\\DAS_extract_V2\\__init__.py:2\u001b[0m, in \u001b[0;36m<module>\u001b[1;34m\u001b[0m\n\u001b[0;32m      1\u001b[0m \u001b[38;5;66;03m#!/usr/bin/env python\u001b[39;00m\n\u001b[1;32m----> 2\u001b[0m \u001b[38;5;28;01mfrom\u001b[39;00m \u001b[38;5;21;01m.\u001b[39;00m\u001b[38;5;21;01mPMC_OA_DAS_parser_V3\u001b[39;00m \u001b[38;5;28;01mimport\u001b[39;00m parse_xml_directory \n\u001b[0;32m      3\u001b[0m \u001b[38;5;28;01mfrom\u001b[39;00m \u001b[38;5;21;01m.\u001b[39;00m\u001b[38;5;21;01mall_PMC_code\u001b[39;00m \u001b[38;5;28;01mimport\u001b[39;00m grab_PMIDs_from_csv\n\u001b[0;32m      4\u001b[0m \u001b[38;5;28;01mfrom\u001b[39;00m \u001b[38;5;21;01m.\u001b[39;00m\u001b[38;5;21;01mall_PMC_code\u001b[39;00m \u001b[38;5;28;01mimport\u001b[39;00m isolate_rows_by_PMID\n",
      "File \u001b[1;32mG:\\Gunther\\01_Lindberg_Fellowship_Project\\src\\GitHub\\DAS-extract-V2\\DAS_extract_V2\\PMC_OA_DAS_parser_V3.py:206\u001b[0m, in \u001b[0;36m<module>\u001b[1;34m\u001b[0m\n\u001b[0;32m    204\u001b[0m xml_directory \u001b[38;5;241m=\u001b[39m \u001b[38;5;124m'\u001b[39m\u001b[38;5;124m/Users/muthuku/Desktop/final_xml_07_22\u001b[39m\u001b[38;5;124m'\u001b[39m\n\u001b[0;32m    205\u001b[0m \u001b[38;5;66;03m#use the function to parse through each file in directory and extract key info +DAS\u001b[39;00m\n\u001b[1;32m--> 206\u001b[0m df1 \u001b[38;5;241m=\u001b[39m \u001b[43mparse_xml_directory\u001b[49m\u001b[43m(\u001b[49m\u001b[43mxml_directory\u001b[49m\u001b[43m)\u001b[49m\n\u001b[0;32m    207\u001b[0m \u001b[38;5;66;03m#df1.to_csv(\"new_code_check.csv\", encoding = \"utf-8\")\u001b[39;00m\n\u001b[0;32m    208\u001b[0m \n\u001b[0;32m    209\u001b[0m \u001b[38;5;66;03m#DATAFRAME CLEAN UP STEPS\u001b[39;00m\n\u001b[0;32m    210\u001b[0m \n\u001b[0;32m    211\u001b[0m \u001b[38;5;66;03m# create a combined DAS column to include results from 3 methods of DAS collection \u001b[39;00m\n\u001b[0;32m    212\u001b[0m df1[\u001b[38;5;124m'\u001b[39m\u001b[38;5;124mcombined_DAS\u001b[39m\u001b[38;5;124m'\u001b[39m] \u001b[38;5;241m=\u001b[39m df1[\u001b[38;5;124m'\u001b[39m\u001b[38;5;124mData Availability 1\u001b[39m\u001b[38;5;124m'\u001b[39m] \u001b[38;5;241m+\u001b[39m df1[\u001b[38;5;124m'\u001b[39m\u001b[38;5;124mData Availability 2\u001b[39m\u001b[38;5;124m'\u001b[39m] \u001b[38;5;241m+\u001b[39m df1[\u001b[38;5;124m'\u001b[39m\u001b[38;5;124mData Availability 3\u001b[39m\u001b[38;5;124m'\u001b[39m] \u001b[38;5;241m+\u001b[39m df1[\u001b[38;5;124m'\u001b[39m\u001b[38;5;124mData Availability 4\u001b[39m\u001b[38;5;124m'\u001b[39m] \u001b[38;5;241m+\u001b[39m df1[\u001b[38;5;124m'\u001b[39m\u001b[38;5;124mData Availability 5\u001b[39m\u001b[38;5;124m'\u001b[39m] \n",
      "File \u001b[1;32mG:\\Gunther\\01_Lindberg_Fellowship_Project\\src\\GitHub\\DAS-extract-V2\\DAS_extract_V2\\PMC_OA_DAS_parser_V3.py:15\u001b[0m, in \u001b[0;36mparse_xml_directory\u001b[1;34m(directory)\u001b[0m\n\u001b[0;32m      9\u001b[0m \u001b[38;5;124;03m'''Function that can be used to parse through a directory of xmls and outputs a csv/excel \u001b[39;00m\n\u001b[0;32m     10\u001b[0m \u001b[38;5;124;03mof Title, PMID, PMC, DOI, abstract, data availability statements and urls linking to data\u001b[39;00m\n\u001b[0;32m     11\u001b[0m \n\u001b[0;32m     12\u001b[0m \u001b[38;5;124;03mdirectory: folder of .xml files specifically from Pubmed OpenAccess'''\u001b[39;00m\n\u001b[0;32m     14\u001b[0m \u001b[38;5;66;03m#creates a list of xml files within the directory to be looped through\u001b[39;00m\n\u001b[1;32m---> 15\u001b[0m xml_files \u001b[38;5;241m=\u001b[39m [os\u001b[38;5;241m.\u001b[39mpath\u001b[38;5;241m.\u001b[39mjoin(directory, file) \u001b[38;5;28;01mfor\u001b[39;00m file \u001b[38;5;129;01min\u001b[39;00m \u001b[43mos\u001b[49m\u001b[38;5;241;43m.\u001b[39;49m\u001b[43mlistdir\u001b[49m\u001b[43m(\u001b[49m\u001b[43mdirectory\u001b[49m\u001b[43m)\u001b[49m \u001b[38;5;28;01mif\u001b[39;00m file\u001b[38;5;241m.\u001b[39mendswith(\u001b[38;5;124m'\u001b[39m\u001b[38;5;124m.nxml\u001b[39m\u001b[38;5;124m'\u001b[39m)]\n\u001b[0;32m     17\u001b[0m \u001b[38;5;66;03m#initialize empty dataframe to be filled with final output dataframe \u001b[39;00m\n\u001b[0;32m     18\u001b[0m data \u001b[38;5;241m=\u001b[39m []\n",
      "\u001b[1;31mFileNotFoundError\u001b[0m: [WinError 3] The system cannot find the path specified: '/Users/muthuku/Desktop/final_xml_07_22'"
     ]
    }
   ],
   "source": [
    "#STEP 1 -grab PMIDs from CSHL digital repo CSV \n",
    "from DAS_extract_V2 import grab_PMIDs_from_csv\n",
    "from DAS_extract_V2 import isolate_rows_by_PMID\n",
    "from DAS_extract_V2 import extract_files\n",
    "from DAS_extract_V2 import get_nxml\n",
    "\n",
    "datafile = \"example_files/2023_07_06_CSHL_articles_2007-2022_from_IR.csv\"\n",
    "pmids_output_file = \"example_files/pmids_07_22.txt\"\n",
    "\n",
    "grab_PMIDs_from_csv(datafile,pmids_output_file)\n",
    "\n",
    "#STEP2 check OA database CSV for files to download-oa_file_list was not able to be uploaded to Github, you must download your own copy from\n",
    "#go to the Base FTP URL https://ftp.ncbi.nlm.nih.gov/pub/pmc/\n",
    "isolate_rows_by_PMID('example_files/pmids_07_22.txt', 'example_files/oa_file_list.csv', 'example_files/output1_07_22_PMC.csv')\n",
    "\n",
    "#STEP 3 - using the links in the output file and download zipped PMC folders containing .nxml, .pdf, figures and data into a directory (download_PMC fxn)\n",
    "#STEP 3A- Each downladed file will look like PMC{ID Number}.tar.gz, using extract_files function to unzip them \n",
    "\n",
    "download_PMC('example_files/output1_07_22_PMC.csv', \"PMC_folder_07_22\")\n",
    "folder = 'example_files/PMC_folder_07_22'\n",
    "extract_files(folder)\n",
    "\n",
    "#STEP 4 grab the full text XML from each PMC folder and create a folder with all articles\n",
    "source_folder = 'example_files/PMC_folder_07_22'\n",
    "target_folder = 'example_files/final_xml_07_22'\n",
    "file_extension = '.nxml'\n",
    "\n",
    "get_nxml(source_folder,target_folder,file_extension)"
   ]
  },
  {
   "cell_type": "code",
   "execution_count": null,
   "id": "27dbbce1-7ba0-45ff-af18-546a7619a536",
   "metadata": {},
   "outputs": [],
   "source": [
    "from DAS_extract_V2 import parse_xml_directory\n",
    "#IN THIS STEP WE ARE PARSING THROUGH EACH FULL TEXT XML and returning key article metadata including DAS and url links\n",
    "\n",
    "xml_directory = '/Users/muthuku/Desktop/final_xml_07_22'\n",
    "df1 = parse_xml_directory(xml_directory)\n",
    "#DATAFRAME cleanup steps - run these after the main function above\n",
    "# create a combined DAS column to include results from all methods of DAS collection \n",
    "df1['combined_DAS'] = df1['Data Availability 1'] + df1['Data Availability 2'] + df1['Data Availability 3'] + df1['Data Availability 4'] + df1['Data Availability 5'] \n",
    "df1['unique_combined_das'] = df1['combined_DAS'].apply(lambda x: list(set(x)))\n",
    "count = 0\n",
    "for n in df1['unique_combined_das']:\n",
    "\tcount += 1\n",
    "\tif n == []:\n",
    "\t\tn.append(\"Not applicable \" + str(count))\n",
    "\n",
    "#combine URLs as well \n",
    "df1['all_urls'] = df1['URL1'] +df1['URL2'] + df1['URL3'] +df1['URL4'] + df1['URL5']\n",
    "#drop individual columns \n",
    "column_list = ['Data Availability 1','Data Availability 2','Data Availability 3','Data Availability 4','Data Availability 5','URL1', 'URL2','URL3','URL4','URL5', 'combined_DAS']\n",
    "df2= df1.drop(columns = column_list)\n",
    "#convert the list of seperate strings into a single string- join all sentences together and remove commas which interfere with ML \n",
    "df2['combined_string_DAS'] = df2['unique_combined_das'].apply(lambda x: ' '.join(x))\n",
    "df2['combined_string_DAS'] = df2['combined_string_DAS'].str.replace(',', '')\n",
    "df2 = df2.drop(['unique_combined_das'], axis = 1)\n",
    "df2.to_csv(\"PMC_parser_output.csv\", encoding = \"utf-8\")"
   ]
  },
  {
   "cell_type": "code",
   "execution_count": null,
   "id": "1bde77e3-25d7-46d9-94e3-e8d5d135685f",
   "metadata": {},
   "outputs": [],
   "source": [
    "from DAS_extract_V2 import citation_count\n",
    "#STEP3 -citation counts for each article using SCOPUS API and using article DOIs as an input \n",
    "file = \"example_files/PMC_parser_output.csv\"\n",
    "df1 = pd.read_csv(file)\n",
    "df2 = df1['DOI']\n",
    "df1['citation_count'] = citation_count(df2)\n",
    "print(df1)\n",
    "\n",
    "df1.to_csv('og_df_with_citations1.csv', encoding = \"utf-8\", index = False"
   ]
  },
  {
   "cell_type": "code",
   "execution_count": null,
   "id": "b2e888bd-be5a-4915-bd25-5c61d85d213f",
   "metadata": {},
   "outputs": [],
   "source": [
    "%run ./DAS_extract_V2/classify_das2.py \n",
    "#!python3 ./DAS_extract_V2/classify_das2.py\n",
    "\n"
   ]
  },
  {
   "cell_type": "code",
   "execution_count": null,
   "id": "7077831f-73cb-47bb-9545-65865965b849",
   "metadata": {},
   "outputs": [],
   "source": []
  }
 ],
 "metadata": {
  "kernelspec": {
   "display_name": "Python 3 (ipykernel)",
   "language": "python",
   "name": "python3"
  },
  "language_info": {
   "codemirror_mode": {
    "name": "ipython",
    "version": 3
   },
   "file_extension": ".py",
   "mimetype": "text/x-python",
   "name": "python",
   "nbconvert_exporter": "python",
   "pygments_lexer": "ipython3",
   "version": "3.9.12"
  }
 },
 "nbformat": 4,
 "nbformat_minor": 5
}
