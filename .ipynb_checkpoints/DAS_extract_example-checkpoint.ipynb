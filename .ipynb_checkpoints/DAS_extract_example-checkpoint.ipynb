{
 "cells": [
  {
   "cell_type": "code",
   "execution_count": 1,
   "id": "d246150e-2694-4ed7-9657-49e26e0ce2c0",
   "metadata": {},
   "outputs": [],
   "source": [
    "#test jupyternotebook- now all functions EXCEPT classify_das.py can be run as individual functions\n",
    "from DAS_extract_V2 import grab_PMIDs_from_csv\n",
    "from DAS_extract_V2 import isolate_rows_by_PMID\n",
    "from DAS_extract_V2 import extract_files\n",
    "from DAS_extract_V2 import get_nxml\n",
    "from DAS_extract_V2 import citation_count\n",
    "import pandas as pd\n",
    "import numpy as np\n",
    "\n",
    "#a test to see if it works in jupyter notebook\n",
    "#file = \"example_files/PMC_parser_output.csv\"\n",
    "#df1 = pd.read_csv(file)\n",
    "#df2 = df1['DOI']\n",
    "#df1['citation_count'] = citation_count(df2)\n",
    "#print(df1)"
   ]
  },
  {
   "cell_type": "code",
   "execution_count": null,
   "id": "ede3a559-f493-4ef4-b3a9-e363f0676323",
   "metadata": {},
   "outputs": [],
   "source": [
    "# %run /path/to/my_script.py FOR CLASSIFY DAS python file \n",
    "# !python /path/to/my_script.py"
   ]
  },
  {
   "cell_type": "code",
   "execution_count": 6,
   "id": "c808ad76-8193-4e0f-bc13-e1be43362954",
   "metadata": {},
   "outputs": [],
   "source": [
    "#STEP 1 -grab PMIDs from CSHL digital repo CSV \n",
    "from DAS_extract_V2 import grab_PMIDs_from_csv\n",
    "from DAS_extract_V2 import isolate_rows_by_PMID\n",
    "from DAS_extract_V2 import download_PMC\n",
    "from DAS_extract_V2 import extract_files\n",
    "from DAS_extract_V2 import get_nxml\n",
    "\n",
    "#datafile = \"example_files/2023_07_06_CSHL_articles_2007-2022_from_IR.csv\"\n",
    "#pmids_output_file = \"example_files/pmids_07_22.txt\"\n",
    "\n",
    "#grab_PMIDs_from_csv(datafile,pmids_output_file)\n",
    "\n",
    "#STEP2 check OA database CSV for files to download-oa_file_list was not able to be uploaded to Github, you must download your own copy from\n",
    "#go to the Base FTP URL https://ftp.ncbi.nlm.nih.gov/pub/pmc/\n",
    "#isolate_rows_by_PMID('example_files/pmids_07_22.txt', 'example_files/oa_file_list.csv', 'example_files/output1_07_22_PMC.csv')\n",
    "\n",
    "#STEP 3 - using the links in the output file and download zipped PMC folders containing .nxml, .pdf, figures and data into a directory (download_PMC fxn)\n",
    "#STEP 3A- Each downladed file will look like PMC{ID Number}.tar.gz, using extract_files function to unzip them \n",
    "\n",
    "#download_PMC('example_files/output1_07_22_PMC.csv', \"example_files/PMC_folder_07_22\")\n",
    "#folder = 'example_files/PMC_folder_07_22'\n",
    "#extract_files(folder)\n",
    "\n",
    "#STEP 4 grab the full text XML from each PMC folder and create a folder with all articles\n",
    "source_folder = 'example_files/PMC_folder_07_22'\n",
    "target_folder = 'example_files/final_xml_07_22'\n",
    "file_extension = '.nxml'\n",
    "\n",
    "get_nxml(source_folder,target_folder,file_extension)"
   ]
  },
  {
   "cell_type": "code",
   "execution_count": 10,
   "id": "27dbbce1-7ba0-45ff-af18-546a7619a536",
   "metadata": {},
   "outputs": [
    {
     "name": "stdout",
     "output_type": "stream",
     "text": [
      "example_files/final_xml_07_22/1471-2105-8-19.nxml\n",
      "example_files/final_xml_07_22/1471-2105-8-191.nxml\n",
      "example_files/final_xml_07_22/1471-2105-8-344.nxml\n",
      "example_files/final_xml_07_22/1471-2105-8-359.nxml\n",
      "example_files/final_xml_07_22/1471-2105-8-474.nxml\n",
      "example_files/final_xml_07_22/1471-2105-8-S6-S3.nxml\n",
      "example_files/final_xml_07_22/1471-213X-7-97.nxml\n",
      "example_files/final_xml_07_22/1471-2180-7-61.nxml\n",
      "example_files/final_xml_07_22/1471-2199-8-3.nxml\n",
      "example_files/final_xml_07_22/gb-2007-8-2-r17.nxml\n",
      "example_files/final_xml_07_22/gb-2007-8-3-r34.nxml\n",
      "example_files/final_xml_07_22/gb-2007-8-3-r39.nxml\n",
      "example_files/final_xml_07_22/gkl1041.nxml\n",
      "example_files/final_xml_07_22/gkl1127.nxml\n",
      "example_files/final_xml_07_22/gkl777.nxml\n",
      "example_files/final_xml_07_22/gkl818.nxml\n",
      "example_files/final_xml_07_22/gkl894.nxml\n",
      "example_files/final_xml_07_22/gkl928.nxml\n",
      "example_files/final_xml_07_22/gkm1022.nxml\n",
      "example_files/final_xml_07_22/gkm402.nxml\n",
      "example_files/final_xml_07_22/gkm783.nxml\n",
      "example_files/final_xml_07_22/gkm908.nxml\n",
      "example_files/final_xml_07_22/gkm968.nxml\n",
      "example_files/final_xml_07_22/gkm975.nxml\n",
      "example_files/final_xml_07_22/gkm978.nxml\n",
      "example_files/final_xml_07_22/jcb1780093.nxml\n",
      "example_files/final_xml_07_22/jcb1800051.nxml\n",
      "example_files/final_xml_07_22/msb4100114.nxml\n",
      "example_files/final_xml_07_22/pbio.0050047.nxml\n",
      "example_files/final_xml_07_22/pbio.0050073.nxml\n",
      "example_files/final_xml_07_22/pbio.0050174.nxml\n",
      "example_files/final_xml_07_22/pbio.0050189.nxml\n",
      "example_files/final_xml_07_22/pbio.0050264.nxml\n",
      "example_files/final_xml_07_22/pbio.0050321.nxml\n",
      "example_files/final_xml_07_22/pbio.0060016.nxml\n",
      "example_files/final_xml_07_22/pbio.0060027.nxml\n",
      "example_files/final_xml_07_22/pgen.0030086.nxml\n",
      "example_files/final_xml_07_22/pgen.0030101.nxml\n",
      "example_files/final_xml_07_22/pone.0000267.nxml\n",
      "example_files/final_xml_07_22/pone.0000317.nxml\n",
      "example_files/final_xml_07_22/pone.0000533.nxml\n",
      "example_files/final_xml_07_22/pone.0000538.nxml\n",
      "example_files/final_xml_07_22/pone.0000854.nxml\n",
      "example_files/final_xml_07_22/pone.0001083.nxml\n",
      "example_files/final_xml_07_22/pone.0001213.nxml\n",
      "example_files/final_xml_07_22/pone.0001314.nxml\n",
      "example_files/final_xml_07_22/pone.0001338.nxml\n",
      "example_files/final_xml_07_22/pone.0001461.nxml\n",
      "example_files/final_xml_07_22/tpj0052-0391.nxml\n"
     ]
    }
   ],
   "source": [
    "from DAS_extract_V2 import parse_xml_directory\n",
    "#IN THIS STEP WE ARE PARSING THROUGH EACH FULL TEXT XML and returning key article metadata including DAS and url links\n",
    "\n",
    "xml_directory = 'example_files/final_xml_07_22'\n",
    "df1 = parse_xml_directory(xml_directory)\n",
    "#DATAFRAME cleanup steps - run these after the main function above\n",
    "# create a combined DAS column to include results from all methods of DAS collection \n",
    "df1['combined_DAS'] = df1['Data Availability 1'] + df1['Data Availability 2'] + df1['Data Availability 3'] + df1['Data Availability 4'] + df1['Data Availability 5'] \n",
    "df1['unique_combined_das'] = df1['combined_DAS'].apply(lambda x: list(set(x)))\n",
    "count = 0\n",
    "for n in df1['unique_combined_das']:\n",
    "\tcount += 1\n",
    "\tif n == []:\n",
    "\t\tn.append(\"Not applicable \" + str(count))\n",
    "\n",
    "#combine URLs as well \n",
    "df1['all_urls'] = df1['URL1'] +df1['URL2'] + df1['URL3'] +df1['URL4'] + df1['URL5']\n",
    "#drop individual columns \n",
    "column_list = ['Data Availability 1','Data Availability 2','Data Availability 3','Data Availability 4','Data Availability 5','URL1', 'URL2','URL3','URL4','URL5', 'combined_DAS']\n",
    "df2= df1.drop(columns = column_list)\n",
    "#convert the list of seperate strings into a single string- join all sentences together and remove commas which interfere with ML \n",
    "df2['combined_string_DAS'] = df2['unique_combined_das'].apply(lambda x: ' '.join(x))\n",
    "df2['combined_string_DAS'] = df2['combined_string_DAS'].str.replace(',', '')\n",
    "df2 = df2.drop(['unique_combined_das'], axis = 1)\n",
    "df2.to_csv(\"example_files/PMC_parser_output_test.csv\", encoding = \"utf-8\")"
   ]
  },
  {
   "cell_type": "code",
   "execution_count": 12,
   "id": "b2e888bd-be5a-4915-bd25-5c61d85d213f",
   "metadata": {},
   "outputs": [
    {
     "name": "stdout",
     "output_type": "stream",
     "text": [
      "length_train: 140\n",
      "length_test: 35\n",
      "140 random_indices_train\n",
      "35 random_indices_test\n",
      "Reading input data...\n",
      "max_number:49\n",
      "48 data points to classify\n",
      "Combine labels: no coding: 1 stopwords: no stemming: yes uniform prior: yes\n",
      "Reading annotated data...\n",
      "Max_number annotated:177\n",
      "Test labels: {'5', '0', '2', '1', '4', '3'}\n",
      "Train labels: {'5', '0', '1', '2', '4', '3'}\n",
      "Training data points:\n",
      "140 training data points\n",
      "Test data points:\n",
      "34 test data points\n",
      "Top-frequency test data points:\n",
      "34 top-frequency test data points\n",
      "Training TF-IDF SVM classifier...\n",
      "Testing TF-IDF SVM classifier...\n",
      "0.7352941176470589\n",
      "0.7352941176470589\n",
      "Weighted accuracy: 0.7352941176470589\n",
      "Grid Search for SVM classifier...\n",
      "Classifying statements...\n",
      "Printing classified statements...\n",
      "Printing classified test set...\n",
      "There are 34 test texts and  34 predicted test texts\n"
     ]
    }
   ],
   "source": [
    "#%run ./DAS_extract_V2/classify_das2.py\n",
    "#RUN THE ML CLASSIFER IN THE \n",
    "#you also need this large file glove.6B.50d.txt, which is necessary for the\n",
    "#vectorizing of words in the DAS\n",
    "#!python3 /path/to/my_script.py --istest no --user_input yes --combine_labels yes --coding 2 --stopwords no --uniform_prior yes --stemming no --skip_model1 yes --skip_model2 no --skip_model3 yes --skip_model4 no --skip_model5 yes\n",
    "!python3 ./DAS_extract_V2/classify_das2.py --istest no --user_input yes --combine_labels no --coding 1 --stopwords no --uniform_prior yes --stemming yes --skip_model1 yes --skip_model2 yes --skip_model3 no --skip_model4 yes --skip_model5 yes"
   ]
  },
  {
   "cell_type": "code",
   "execution_count": 18,
   "id": "5a9608c2-59a5-4c36-ba4c-7d604d5f0d27",
   "metadata": {},
   "outputs": [
    {
     "name": "stdout",
     "output_type": "stream",
     "text": [
      "length_train: 140\n",
      "length_test: 35\n",
      "140 random_indices_train\n",
      "35 random_indices_test\n",
      "Reading input data...\n",
      "max_number:49\n",
      "48 data points to classify\n",
      "Combine labels: no coding: 1 stopwords: no stemming: yes uniform prior: yes\n",
      "Reading annotated data...\n",
      "Max_number annotated:177\n",
      "Test labels: {'5', '4', '2', '3', '0', '1'}\n",
      "Train labels: {'4', '5', '2', '3', '0', '1'}\n",
      "Training data points:\n",
      "140 training data points\n",
      "Test data points:\n",
      "34 test data points\n",
      "Top-frequency test data points:\n",
      "34 top-frequency test data points\n",
      "Training TF-IDF SVM classifier...\n",
      "Testing TF-IDF SVM classifier...\n",
      "0.6764705882352942\n",
      "0.6764705882352942\n",
      "Weighted accuracy: 0.6764705882352942\n",
      "Grid Search for SVM classifier...\n",
      "Classifying statements...\n",
      "Printing classified statements...\n",
      "Printing classified test set...\n",
      "There are 34 test texts and  34 predicted test texts\n"
     ]
    }
   ],
   "source": [
    "#%run ./DAS_extract_V2/classify_das2.py\n",
    "#RUN THE ML CLASSIFER IN THE \n",
    "#you also need this large file glove.6B.50d.txt, which is necessary for the\n",
    "#vectorizing of words in the DAS\n",
    "#!python3 /path/to/my_script.py --istest no --user_input yes --combine_labels yes --coding 2 --stopwords no --uniform_prior yes --stemming no --skip_model1 yes --skip_model2 no --skip_model3 yes --skip_model4 no --skip_model5 yes\n",
    "!python3 ./DAS_extract_V2/classify_das2.py --istest no --user_input yes --combine_labels no --coding 1 --stopwords no --uniform_prior yes --stemming yes --skip_model1 yes --skip_model2 yes --skip_model3 no --skip_model4 yes --skip_model5 yes"
   ]
  },
  {
   "cell_type": "code",
   "execution_count": null,
   "id": "7077831f-73cb-47bb-9545-65865965b849",
   "metadata": {},
   "outputs": [],
   "source": []
  },
  {
   "cell_type": "code",
   "execution_count": 19,
   "id": "1bde77e3-25d7-46d9-94e3-e8d5d135685f",
   "metadata": {},
   "outputs": [
    {
     "name": "stderr",
     "output_type": "stream",
     "text": [
      "100%|███████████████████████████████████████| 1318/1318 [04:34<00:00,  4.81it/s]\n"
     ]
    }
   ],
   "source": [
    "from DAS_extract_V2 import merge_og_classify_dfs\n",
    "from DAS_extract_V2 import citation_count\n",
    "\n",
    "file1 = \"example_files/PMC_parser_output.csv\"\n",
    "file2 = \"example_files/ML_output/Classified_SVM_combined_labels_no-coding-approach1-stopwords-no-uniformprior_yes-stemming_yes-test_no.csv\"\n",
    "df3 = merge_og_classify_dfs(file1, file2)\n",
    "\n",
    "df4 = df3[\"DOI\"]\n",
    "df3['citation_count'] = citation_count(df4)\n",
    "#code to get average citation counts and class count number by year \n",
    "\n",
    "# result = df3.groupby(['Year', 'classifying_number']).size().reset_index(name='counts')\n",
    "# average_citation_by_class_year = df3.groupby(['Year', 'classifying_number'])['citation_count'].mean().reset_index()\n",
    "df3.to_csv(\"example_files/final_output_test_JN.csv\", encoding = \"utf-8\", index = False)\n",
    "\n",
    "#STEP4 -citation counts for each article using SCOPUS API and using article DOIs as an input -TEST\n",
    "\n",
    "\n",
    "\n",
    "#file = \"example_files/PMC_parser_output.csv\"\n",
    "#df1 = pd.read_csv(file)\n",
    "#df2 = df1['DOI']\n",
    "#df1['citation_count'] = citation_count(df2)\n",
    "#print(df1)\n",
    "\n",
    "#df1.to_csv('og_df_with_citations1.csv', encoding = \"utf-8\", index = False"
   ]
  },
  {
   "cell_type": "code",
   "execution_count": null,
   "id": "ba5d751c-12fc-4573-b9c9-18ff9eefc7d2",
   "metadata": {},
   "outputs": [],
   "source": []
  }
 ],
 "metadata": {
  "kernelspec": {
   "display_name": "Python 3 (ipykernel)",
   "language": "python",
   "name": "python3"
  },
  "language_info": {
   "codemirror_mode": {
    "name": "ipython",
    "version": 3
   },
   "file_extension": ".py",
   "mimetype": "text/x-python",
   "name": "python",
   "nbconvert_exporter": "python",
   "pygments_lexer": "ipython3",
   "version": "3.11.4"
  }
 },
 "nbformat": 4,
 "nbformat_minor": 5
}
