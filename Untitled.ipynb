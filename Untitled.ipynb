{
 "cells": [
  {
   "cell_type": "code",
   "execution_count": 6,
   "id": "831f6e73",
   "metadata": {},
   "outputs": [
    {
     "ename": "FileNotFoundError",
     "evalue": "[WinError 3] The system cannot find the path specified: '/Results/final_xml_07_22'",
     "output_type": "error",
     "traceback": [
      "\u001b[1;31m---------------------------------------------------------------------------\u001b[0m",
      "\u001b[1;31mFileNotFoundError\u001b[0m                         Traceback (most recent call last)",
      "Input \u001b[1;32mIn [6]\u001b[0m, in \u001b[0;36m<cell line: 1>\u001b[1;34m()\u001b[0m\n\u001b[1;32m----> 1\u001b[0m \u001b[38;5;28;01mfrom\u001b[39;00m \u001b[38;5;21;01mDAS_extract_V2\u001b[39;00m \u001b[38;5;28;01mimport\u001b[39;00m download_PMC\n",
      "File \u001b[1;32mG:\\Gunther\\01_Lindberg_Fellowship_Project\\src\\GitHub\\DAS-extract-V2\\DAS_extract_V2\\__init__.py:2\u001b[0m, in \u001b[0;36m<module>\u001b[1;34m\u001b[0m\n\u001b[0;32m      1\u001b[0m \u001b[38;5;66;03m#!/usr/bin/env python\u001b[39;00m\n\u001b[1;32m----> 2\u001b[0m \u001b[38;5;28;01mfrom\u001b[39;00m \u001b[38;5;21;01m.\u001b[39;00m\u001b[38;5;21;01mPMC_OA_DAS_parser_V3\u001b[39;00m \u001b[38;5;28;01mimport\u001b[39;00m parse_xml_directory \n\u001b[0;32m      3\u001b[0m \u001b[38;5;28;01mfrom\u001b[39;00m \u001b[38;5;21;01m.\u001b[39;00m\u001b[38;5;21;01mall_PMC_code\u001b[39;00m \u001b[38;5;28;01mimport\u001b[39;00m grab_PMIDs_from_csv\n\u001b[0;32m      4\u001b[0m \u001b[38;5;28;01mfrom\u001b[39;00m \u001b[38;5;21;01m.\u001b[39;00m\u001b[38;5;21;01mall_PMC_code\u001b[39;00m \u001b[38;5;28;01mimport\u001b[39;00m isolate_rows_by_PMID\n",
      "File \u001b[1;32mG:\\Gunther\\01_Lindberg_Fellowship_Project\\src\\GitHub\\DAS-extract-V2\\DAS_extract_V2\\PMC_OA_DAS_parser_V3.py:206\u001b[0m, in \u001b[0;36m<module>\u001b[1;34m\u001b[0m\n\u001b[0;32m    204\u001b[0m xml_directory \u001b[38;5;241m=\u001b[39m \u001b[38;5;124m'\u001b[39m\u001b[38;5;124m/Users/muthuku/Desktop/final_xml_07_22\u001b[39m\u001b[38;5;124m'\u001b[39m\n\u001b[0;32m    205\u001b[0m \u001b[38;5;66;03m#use the function to parse through each file in directory and extract key info +DAS\u001b[39;00m\n\u001b[1;32m--> 206\u001b[0m df1 \u001b[38;5;241m=\u001b[39m \u001b[43mparse_xml_directory\u001b[49m\u001b[43m(\u001b[49m\u001b[43mxml_directory\u001b[49m\u001b[43m)\u001b[49m\n\u001b[0;32m    207\u001b[0m \u001b[38;5;66;03m#df1.to_csv(\"new_code_check.csv\", encoding = \"utf-8\")\u001b[39;00m\n\u001b[0;32m    208\u001b[0m \n\u001b[0;32m    209\u001b[0m \u001b[38;5;66;03m#DATAFRAME CLEAN UP STEPS\u001b[39;00m\n\u001b[0;32m    210\u001b[0m \n\u001b[0;32m    211\u001b[0m \u001b[38;5;66;03m# create a combined DAS column to include results from 3 methods of DAS collection \u001b[39;00m\n\u001b[0;32m    212\u001b[0m df1[\u001b[38;5;124m'\u001b[39m\u001b[38;5;124mcombined_DAS\u001b[39m\u001b[38;5;124m'\u001b[39m] \u001b[38;5;241m=\u001b[39m df1[\u001b[38;5;124m'\u001b[39m\u001b[38;5;124mData Availability 1\u001b[39m\u001b[38;5;124m'\u001b[39m] \u001b[38;5;241m+\u001b[39m df1[\u001b[38;5;124m'\u001b[39m\u001b[38;5;124mData Availability 2\u001b[39m\u001b[38;5;124m'\u001b[39m] \u001b[38;5;241m+\u001b[39m df1[\u001b[38;5;124m'\u001b[39m\u001b[38;5;124mData Availability 3\u001b[39m\u001b[38;5;124m'\u001b[39m] \u001b[38;5;241m+\u001b[39m df1[\u001b[38;5;124m'\u001b[39m\u001b[38;5;124mData Availability 4\u001b[39m\u001b[38;5;124m'\u001b[39m] \u001b[38;5;241m+\u001b[39m df1[\u001b[38;5;124m'\u001b[39m\u001b[38;5;124mData Availability 5\u001b[39m\u001b[38;5;124m'\u001b[39m] \n",
      "File \u001b[1;32mG:\\Gunther\\01_Lindberg_Fellowship_Project\\src\\GitHub\\DAS-extract-V2\\DAS_extract_V2\\PMC_OA_DAS_parser_V3.py:15\u001b[0m, in \u001b[0;36mparse_xml_directory\u001b[1;34m(directory)\u001b[0m\n\u001b[0;32m      9\u001b[0m \u001b[38;5;124;03m'''Function that can be used to parse through a directory of xmls and outputs a csv/excel \u001b[39;00m\n\u001b[0;32m     10\u001b[0m \u001b[38;5;124;03mof Title, PMID, PMC, DOI, abstract, data availability statements and urls linking to data\u001b[39;00m\n\u001b[0;32m     11\u001b[0m \n\u001b[0;32m     12\u001b[0m \u001b[38;5;124;03mdirectory: folder of .xml files specifically from Pubmed OpenAccess'''\u001b[39;00m\n\u001b[0;32m     14\u001b[0m \u001b[38;5;66;03m#creates a list of xml files within the directory to be looped through\u001b[39;00m\n\u001b[1;32m---> 15\u001b[0m xml_files \u001b[38;5;241m=\u001b[39m [os\u001b[38;5;241m.\u001b[39mpath\u001b[38;5;241m.\u001b[39mjoin(directory, file) \u001b[38;5;28;01mfor\u001b[39;00m file \u001b[38;5;129;01min\u001b[39;00m \u001b[43mos\u001b[49m\u001b[38;5;241;43m.\u001b[39;49m\u001b[43mlistdir\u001b[49m\u001b[43m(\u001b[49m\u001b[43mdirectory\u001b[49m\u001b[43m)\u001b[49m \u001b[38;5;28;01mif\u001b[39;00m file\u001b[38;5;241m.\u001b[39mendswith(\u001b[38;5;124m'\u001b[39m\u001b[38;5;124m.nxml\u001b[39m\u001b[38;5;124m'\u001b[39m)]\n\u001b[0;32m     17\u001b[0m \u001b[38;5;66;03m#initialize empty dataframe to be filled with final output dataframe \u001b[39;00m\n\u001b[0;32m     18\u001b[0m data \u001b[38;5;241m=\u001b[39m []\n",
      "\u001b[1;31mFileNotFoundError\u001b[0m: [WinError 3] The system cannot find the path specified: '/Results/final_xml_07_22'"
     ]
    }
   ],
   "source": [
    "from DAS_extract_V2 import download_PMC"
   ]
  },
  {
   "cell_type": "code",
   "execution_count": null,
   "id": "33c2c199",
   "metadata": {},
   "outputs": [],
   "source": []
  }
 ],
 "metadata": {
  "kernelspec": {
   "display_name": "Python 3 (ipykernel)",
   "language": "python",
   "name": "python3"
  },
  "language_info": {
   "codemirror_mode": {
    "name": "ipython",
    "version": 3
   },
   "file_extension": ".py",
   "mimetype": "text/x-python",
   "name": "python",
   "nbconvert_exporter": "python",
   "pygments_lexer": "ipython3",
   "version": "3.9.12"
  }
 },
 "nbformat": 4,
 "nbformat_minor": 5
}
